{
 "cells": [
  {
   "cell_type": "markdown",
   "id": "ea765e3c-de25-4571-9f12-96e3b0ed7f20",
   "metadata": {},
   "source": [
    "In this example we will fit AFGL 4179 data from WISE catalogue\n",
    "Firstly, we define functions which we need for WISE radial profile fitter (you will need to import them from WISE_photometry.py file)"
   ]
  },
  {
   "cell_type": "code",
   "execution_count": 1,
   "id": "3a75f749-8e88-4d58-9d91-8f60166d826b",
   "metadata": {},
   "outputs": [],
   "source": [
    "import numpy as np\n",
    "import matplotlib.pyplot as plt\n",
    "\n",
    "from astropy.io import fits\n",
    "from astropy.visualization import ImageNormalize, ZScaleInterval, PercentileInterval\n",
    "from astropy.wcs import WCS\n",
    "from astropy.wcs.utils import proj_plane_pixel_scales\n",
    "from astropy import units as u\n",
    "from astropy.coordinates import SkyCoord\n",
    "\n",
    "from photutils import SkyCircularAperture\n",
    "from photutils import CircularAperture\n",
    "from photutils import CircularAnnulus\n",
    "from photutils import aperture_photometry\n",
    "from astropy.stats import sigma_clipped_stats\n",
    "\n",
    "def photometry_wise1(image_data, radpix, wcs):\n",
    "    #aperture = CircularAperture((image_data.shape[0]/2,image_data.shape[0]/2), radpix[19])\n",
    "    position = [image_data.shape[0]/2,image_data.shape[0]/2]\n",
    "    apertures = [CircularAperture(position, r=r) for r in radpix]\n",
    "    annulus_aperture = CircularAnnulus(position, r_in=radpix[19], r_out=radpix[19]+radpix[16])\n",
    "    phot_table = aperture_photometry(image_data, apertures, wcs=wcs)\n",
    "    \n",
    "    annulus_masks = annulus_aperture.to_mask(method='center')\n",
    "    annulus_data = annulus_masks.multiply(image_data)\n",
    "    mask = annulus_masks.data\n",
    "    annulus_data_1d = annulus_data[mask > 0]\n",
    "    _, median_sigclip, _ = sigma_clipped_stats(annulus_data_1d)\n",
    "    bkg_mean = median_sigclip\n",
    "    \n",
    "    #sky_aperture = to_sky(apertures,wcs)\n",
    "    phot_array = np.zeros(20)\n",
    "    bkg_sum_array = np.zeros(20)\n",
    "    for i in range(0,20):\n",
    "        phot_array[i] = phot_table['aperture_sum_' + str(i)][0]\n",
    "        bkg_sum_array[i] = bkg_mean * apertures[i].area\n",
    "    \n",
    "    final_sum =  phot_array - bkg_sum_array  \n",
    "    \n",
    "    scale = np.mean(proj_plane_pixel_scales(wcs))    \n",
    "    phot_Jy_wise1 = final_sum* 1.9350e-06  #* (scale*np.pi/180.0)**2 \n",
    "    \n",
    "    print('Backgorud outer radius =',radpix[19]+radpix[16],'pixels')\n",
    "    print(phot_table)\n",
    "    return(phot_Jy_wise1)\n",
    "\n",
    "def photometry_wise2(image_data, radpix, wcs):\n",
    "    #aperture = CircularAperture((image_data.shape[0]/2,image_data.shape[0]/2), radpix[19])\n",
    "    position = [image_data.shape[0]/2,image_data.shape[0]/2]\n",
    "    apertures = [CircularAperture(position, r=r) for r in radpix]\n",
    "    annulus_aperture = CircularAnnulus(position, r_in=radpix[19], r_out=radpix[19]+radpix[16])\n",
    "    phot_table = aperture_photometry(image_data, apertures, wcs=wcs)\n",
    "    \n",
    "    annulus_masks = annulus_aperture.to_mask(method='center')\n",
    "    annulus_data = annulus_masks.multiply(image_data)\n",
    "    mask = annulus_masks.data\n",
    "    annulus_data_1d = annulus_data[mask > 0]\n",
    "    _, median_sigclip, _ = sigma_clipped_stats(annulus_data_1d)\n",
    "    bkg_mean = median_sigclip\n",
    "    \n",
    "    #sky_aperture = to_sky(apertures,wcs)\n",
    "    phot_array = np.zeros(20)\n",
    "    bkg_sum_array = np.zeros(20)\n",
    "    for i in range(0,20):\n",
    "        phot_array[i] = phot_table['aperture_sum_' + str(i)][0]\n",
    "        bkg_sum_array[i] = bkg_mean * apertures[i].area\n",
    "    \n",
    "    final_sum =  phot_array - bkg_sum_array   \n",
    "    \n",
    "    scale = np.mean(proj_plane_pixel_scales(wcs))  \n",
    "    phot_Jy_wise2 = final_sum*  2.7048e-06 #* (scale*np.pi/180.0)**2  \n",
    "\n",
    "    \n",
    "    print('Backgorud outer radius =',radpix[19]+radpix[16],'pixels')\n",
    "    print(phot_table)\n",
    "    return(phot_Jy_wise2)\n",
    "\n",
    "def photometry_wise3(image_data, radpix, wcs):\n",
    "    #aperture = CircularAperture((image_data.shape[0]/2,image_data.shape[0]/2), radpix[19])\n",
    "    position = [image_data.shape[0]/2,image_data.shape[0]/2]\n",
    "    apertures = [CircularAperture(position, r=r) for r in radpix]\n",
    "    annulus_aperture = CircularAnnulus(position, r_in=radpix[19], r_out=radpix[19]+radpix[16])\n",
    "    phot_table = aperture_photometry(image_data, apertures, wcs=wcs)\n",
    "    annulus_masks = annulus_aperture.to_mask(method='center')\n",
    "    annulus_data = annulus_masks.multiply(image_data)\n",
    "    mask = annulus_masks.data\n",
    "    annulus_data_1d = annulus_data[mask > 0]\n",
    "    _, median_sigclip, _ = sigma_clipped_stats(annulus_data_1d)\n",
    "    bkg_mean = median_sigclip\n",
    "    \n",
    "    #sky_aperture = to_sky(apertures,wcs)\n",
    "    phot_array = np.zeros(20)\n",
    "    bkg_sum_array = np.zeros(20)\n",
    "    for i in range(0,20):\n",
    "        phot_array[i] = phot_table['aperture_sum_' + str(i)][0]\n",
    "        bkg_sum_array[i] = bkg_mean * apertures[i].area\n",
    "    \n",
    "    final_sum =  phot_array - bkg_sum_array   \n",
    "    \n",
    "    scale = np.mean(proj_plane_pixel_scales(wcs))  \n",
    "    phot_Jy_wise3 = final_sum* 1.8326e-06 #* (scale*np.pi/180.0)**2 #\n",
    "    \n",
    "    print('Backgorud outer radius =',radpix[19]+radpix[16],'pixels')\n",
    "    print(phot_table)\n",
    "    return(phot_Jy_wise3)\n",
    "\n",
    "\n",
    "def photometry_wise4(image_data, radpix, wcs):\n",
    "    #aperture = CircularAperture((image_data.shape[0]/2,image_data.shape[0]/2), radpix[19])\n",
    "    position = [image_data.shape[0]/2,image_data.shape[0]/2]\n",
    "    apertures = [CircularAperture(position, r=r) for r in radpix]\n",
    "    annulus_aperture = CircularAnnulus(position, r_in=radpix[19], r_out=radpix[19]+radpix[16])\n",
    "    phot_table = aperture_photometry(image_data, apertures, wcs=wcs)\n",
    "    annulus_masks = annulus_aperture.to_mask(method='center')\n",
    "    annulus_data = annulus_masks.multiply(image_data)\n",
    "    mask = annulus_masks.data\n",
    "    annulus_data_1d = annulus_data[mask > 0]\n",
    "    _, median_sigclip, _ = sigma_clipped_stats(annulus_data_1d)\n",
    "    bkg_mean = median_sigclip\n",
    "    \n",
    "    #sky_aperture = to_sky(apertures,wcs)\n",
    "    phot_array = np.zeros(20)\n",
    "    bkg_sum_array = np.zeros(20)\n",
    "    for i in range(0,20):\n",
    "        phot_array[i] = phot_table['aperture_sum_' + str(i)][0]\n",
    "        bkg_sum_array[i] = bkg_mean * apertures[i].area\n",
    "    \n",
    "    final_sum =  phot_array - bkg_sum_array   \n",
    "    \n",
    "    scale = np.mean(proj_plane_pixel_scales(wcs))  \n",
    "    phot_Jy_wise4 = final_sum * 5.2269e-05  #* (scale*np.pi/180.0)**2 # MSX_E W/m^2-sr to Jy *2.476e13*scale**2/((180/np.pi)**2*3600**2)\n",
    "    \n",
    "    print('Backgorud outer radius =',radpix[19]+radpix[16],'pixels')\n",
    "    print(phot_table)\n",
    "    return(phot_Jy_wise4)"
   ]
  },
  {
   "cell_type": "markdown",
   "id": "fb921085-9201-4268-b510-0c1d7e96e601",
   "metadata": {},
   "source": [
    "Next, we will define main tools fucntions which needed for operate fits file and chi2 fitting "
   ]
  },
  {
   "cell_type": "code",
   "execution_count": 2,
   "id": "70f69677-b030-4a18-a715-110b68fea4ac",
   "metadata": {},
   "outputs": [],
   "source": [
    "def find_nearest(array, value):\n",
    "    array = np.asarray(array)\n",
    "    idx = (np.abs(array - value)).argmin()\n",
    "    return array[idx], idx\n",
    "\n",
    "def rob_fits(user_fitsfile):\n",
    "    hdul = fits.open(user_fitsfile)\n",
    "    wavelength = hdul['SPECTRAL_INFO'].data\n",
    "    wave = wavelength['WAVELENGTH']\n",
    "    aperture = hdul['APERTURES'].data\n",
    "    ap = aperture['APERTURE']  \n",
    "    fnu = hdul['VALUES'].data\n",
    "    mod_names = hdul['MODEL_NAMES'].data\n",
    "    names = np.array(mod_names.astype('<U11'))\n",
    "    return(ap, wave, fnu*(1000/dist)**2/1000, names)\n",
    "\n",
    "def user_fits(rob_fitsfile,ap,flag):\n",
    "    hdul = fits.open(rob_fitsfile)\n",
    "    hdul.info()\n",
    "    image_data = hdul[0].data[::-1,: ] #инвертирует ось y\n",
    "    wcs = WCS(hdul[0].header)\n",
    "    waveleng = hdul[0].header['WAVELEN']\n",
    "    scale = np.mean(proj_plane_pixel_scales(wcs))*3600\n",
    "    #scale = np.abs(CDELT1)*3600  #arcsec/pix\n",
    "    FOV = image_data.shape[0]*scale\n",
    "    hdul.close()\n",
    "    print(\"Scale =\",scale, \" arcsec/pix\")\n",
    "    print(\"FOV=\", FOV/60/60, \"deg\")\n",
    "    print('Image data shape:', image_data.shape)\n",
    "    # AU           | 1.49598e+11 m \n",
    "    # pc           | 3.08568e+16 m  \n",
    "    L = dist * FOV    #мой способ!!\n",
    "    aupixel = L/image_data.shape[0]   # AU in pixel\n",
    "    radius = ap/aupixel/2\n",
    "\n",
    "    radpix = ap/2/dist/scale\n",
    "    print('MAX RADIUS =', radpix[19], 'pix')\n",
    "    \n",
    "    #norm = ImageNormalize(image_data, interval=ZScaleInterval())         # Scale = ZScale\n",
    "    norm = ImageNormalize(image_data, interval=PercentileInterval(99.5))  # Scale = 99.5%\n",
    "\n",
    "    #ax = plt.subplot(projection=wcs)\n",
    "    #for i in range(0,len(radpix)):\n",
    "    #    ax.add_patch(plt.Circle((image_data.shape[0]/2,image_data.shape[0]/2), radpix[i] ,lw = 0.1, color='r', fill=False))\n",
    "    #    ax.add_patch(plt.Circle((image_data.shape[0]/2,image_data.shape[0]/2), radpix[19]+ radpix[16] ,lw = 0.5, color='green', fill=False))\n",
    "    #plt.imshow(image_data, cmap='gray',  norm=norm)\n",
    "    #plt.xlabel('Galactic Longitude')\n",
    "    #plt.ylabel('Galactic Latitude')\n",
    "    #plt.colorbar()\n",
    "    #plt.savefig(str(obj_name +'_' + models +'_' + flag +'.png') , dpi=300)\n",
    "    print('Min:', np.min(image_data))\n",
    "    print('Max:', np.max(image_data))\n",
    "    print('Mean:', np.mean(image_data))\n",
    "    print('Stdev:', np.std(image_data))\n",
    "    return(image_data, radpix, wcs, scale, waveleng,  aupixel )\n",
    "\n",
    "def chi2_func(phot_Jy, fnu, wave_index, models,names,flag):\n",
    "    chi2 = np.zeros(fnu.shape[0])\n",
    "    for i in range(0,fnu.shape[0]):\n",
    "        #chi2[i] = ((phot_Jy_MSX_A - fnu[i,:,wave_index])**2 *radpix**2).sum()\n",
    "        chi2[i] = ((phot_Jy - fnu[i,:,wave_index])**2).sum()\n",
    "        #idx = [chi2 == min(chi2)]\n",
    "    #index = np.where(idx)[1]\n",
    "    index = np.where(chi2 == np.nanmin(chi2))[0]\n",
    "    #print('chi2 min =',np.nanmin(chi2))\n",
    "    #print(index)\n",
    "    plt.figure()\n",
    "    plt.plot(ap , phot_Jy, 'r.') # MSX_A W/m^2-sr to Jy *7.133e12*scale**2/((180/np.pi)**2*3600**2)\n",
    "    plt.plot(ap , fnu[int(index) ,:,wave_index], 'b.')\n",
    "    plt.xlabel('AU')\n",
    "    plt.ylabel('Jy')\n",
    "    plt.title('%s  %s \\n $\\chi^2$ = %f %s \\n WISE_%s'%(obj_name, models, chi2[index], names[index],flag))\n",
    "    #plt.savefig(str('fit_'+ obj_name +'_' + models +'.png') , dpi=300)\n",
    "    plt.show()\n",
    "    return(chi2, wave_index)\n"
   ]
  },
  {
   "cell_type": "markdown",
   "id": "59eabe39-9eca-4ba5-a8b6-0dff1bf77215",
   "metadata": {},
   "source": [
    "Below we will define object name, distance and which models we want to use. Alse need to define where is WISE fits files."
   ]
  },
  {
   "cell_type": "code",
   "execution_count": 3,
   "id": "52c27988-ff8d-45f7-ab2a-510ad1604269",
   "metadata": {},
   "outputs": [],
   "source": [
    "obj_name = 'AFGL 4179'\n",
    "dist = 664 #pc\n",
    "arr= ['spubhmi']\n",
    "#arr=['s-pbhmi','s-pbsmi','sp--h-i','s-p-hmi','sp--hmi','sp--s-i','s-p-smi','sp--smi',\n",
    "#    'spu-hmi','spu-smi','s---s-i','s---smi','s-ubhmi','s-ubsmi','s-u-hmi','s-u-smi']\n",
    "arr_userfile=['/home/buddy/Documents/MIPT/WISE Images/AFGL4176wise-3a-1.fits', '//home/buddy/Documents/MIPT/WISE Images/AFGL4176wise-3a-2.fits',\n",
    "              '/home/buddy/Documents/MIPT/WISE Images/AFGL4176wise-3a-3.fits', '//home/buddy/Documents/MIPT/WISE Images/AFGL4176wise-3a-4.fits']"
   ]
  },
  {
   "cell_type": "markdown",
   "id": "32f24d78-83f9-4b5f-a7f4-fc96ceead61f",
   "metadata": {},
   "source": [
    "Here presented code to use tools to fit WISE data, at last figure shown final model, which choosen by summing chi2 of different WISE filters\n"
   ]
  },
  {
   "cell_type": "code",
   "execution_count": 4,
   "id": "457542c8-7931-491d-9616-03f59de851a7",
   "metadata": {},
   "outputs": [
    {
     "name": "stdout",
     "output_type": "stream",
     "text": [
      "Filename: /home/buddy/Documents/MIPT/WISE Images/AFGL4176wise-3a-1.fits\n",
      "No.    Name      Ver    Type      Cards   Dimensions   Format\n",
      "  0  PRIMARY       1 PrimaryHDU      67   (1496, 1747)   float32   \n",
      "Scale = 1.37499998090796  arcsec/pix\n",
      "FOV= 0.6672569351795018 deg\n",
      "Image data shape: (1747, 1496)\n",
      "MAX RADIUS = 547.6451335624973 pix\n",
      "Min: 3.5133233\n",
      "Max: 4935.188\n",
      "Mean: 6.1069913\n",
      "Stdev: 37.339527\n",
      "Backgorud outer radius = 675.5597831529626 pixels\n",
      " id xcenter ycenter ...  aperture_sum_17   aperture_sum_18    aperture_sum_19 \n",
      "      pix     pix   ...                                                       \n",
      "--- ------- ------- ... ----------------- ------------------ -----------------\n",
      "  1   873.5   873.5 ... 2867108.622041298 3922561.2090125605 6726544.452850306\n",
      "User waveleng = 3.368 um\n",
      "Models waveleng = 3.325019647959792 um /index = 111\n"
     ]
    },
    {
     "data": {
      "image/png": "[encoded data removed]",
      "text/plain": [
       "<Figure size 432x288 with 1 Axes>"
      ]
     },
     "metadata": {
      "needs_background": "light"
     },
     "output_type": "display_data"
    },
    {
     "name": "stdout",
     "output_type": "stream",
     "text": [
      "Filename: //home/buddy/Documents/MIPT/WISE Images/AFGL4176wise-3a-2.fits\n",
      "No.    Name      Ver    Type      Cards   Dimensions   Format\n",
      "  0  PRIMARY       1 PrimaryHDU      67   (1496, 1747)   float32   \n",
      "Scale = 1.37499998090796  arcsec/pix\n",
      "FOV= 0.6672569351795018 deg\n",
      "Image data shape: (1747, 1496)\n",
      "MAX RADIUS = 547.6451335624973 pix\n",
      "Min: nan\n",
      "Max: nan\n",
      "Mean: nan\n",
      "Stdev: nan\n",
      "Backgorud outer radius = 675.5597831529626 pixels\n",
      " id xcenter ycenter ...  aperture_sum_17   aperture_sum_18   aperture_sum_19  \n",
      "      pix     pix   ...                                                       \n",
      "--- ------- ------- ... ----------------- ----------------- ------------------\n",
      "  1   873.5   873.5 ... 2636209.343792222 4937851.199146686 11003921.081971988\n",
      "User waveleng = 4.618 um\n",
      "Models waveleng = 4.616028335312994 um /index = 106\n"
     ]
    },
    {
     "data": {
      "image/png": "[encoded data removed]",
      "text/plain": [
       "<Figure size 432x288 with 1 Axes>"
      ]
     },
     "metadata": {
      "needs_background": "light"
     },
     "output_type": "display_data"
    },
    {
     "name": "stdout",
     "output_type": "stream",
     "text": [
      "Filename: /home/buddy/Documents/MIPT/WISE Images/AFGL4176wise-3a-3.fits\n",
      "No.    Name      Ver    Type      Cards   Dimensions   Format\n",
      "  0  PRIMARY       1 PrimaryHDU      71   (1496, 1747)   float32   \n",
      "Scale = 1.37499998090796  arcsec/pix\n",
      "FOV= 0.6672569351795018 deg\n",
      "Image data shape: (1747, 1496)\n",
      "MAX RADIUS = 547.6451335624973 pix\n",
      "Min: 609.023\n",
      "Max: 4567.243\n",
      "Mean: 625.6295\n",
      "Stdev: 30.760612\n",
      "Backgorud outer radius = 675.5597831529626 pixels\n",
      " id xcenter ycenter ...  aperture_sum_17   aperture_sum_18   aperture_sum_19 \n",
      "      pix     pix   ...                                                      \n",
      "--- ------- ------- ... ----------------- ----------------- -----------------\n",
      "  1   873.5   873.5 ... 85476181.73825094 223692996.8618061 588487954.0284463\n",
      "User waveleng = 12082000.0 um\n",
      "Models waveleng = 12.35068986454994 um /index = 91\n"
     ]
    },
    {
     "data": {
      "image/png": "[encoded data removed]",
      "text/plain": [
       "<Figure size 432x288 with 1 Axes>"
      ]
     },
     "metadata": {
      "needs_background": "light"
     },
     "output_type": "display_data"
    },
    {
     "name": "stdout",
     "output_type": "stream",
     "text": [
      "Filename: //home/buddy/Documents/MIPT/WISE Images/AFGL4176wise-3a-4.fits\n",
      "No.    Name      Ver    Type      Cards   Dimensions   Format\n",
      "  0  PRIMARY       1 PrimaryHDU      67   (1496, 1747)   float32   \n",
      "Scale = 1.37499998090796  arcsec/pix\n",
      "FOV= 0.6672569351795018 deg\n",
      "Image data shape: (1747, 1496)\n",
      "MAX RADIUS = 547.6451335624973 pix\n",
      "Min: 200.2056\n",
      "Max: 265.8953\n",
      "Mean: 201.1481\n",
      "Stdev: 0.5793615\n",
      "Backgorud outer radius = 675.5597831529626 pixels\n",
      " id xcenter ycenter ... aperture_sum_17  aperture_sum_18   aperture_sum_19  \n",
      "      pix     pix   ...                                                     \n",
      "--- ------- ------- ... ---------------- ---------------- ------------------\n",
      "  1   873.5   873.5 ... 27273819.7222021 71877572.5680347 189491032.81339917\n",
      "User waveleng = 22.194 um\n",
      "Models waveleng = 22.29178607066644 um /index = 82\n"
     ]
    },
    {
     "data": {
      "image/png": "[encoded data removed]",
      "text/plain": [
       "<Figure size 432x288 with 1 Axes>"
      ]
     },
     "metadata": {
      "needs_background": "light"
     },
     "output_type": "display_data"
    },
    {
     "name": "stdout",
     "output_type": "stream",
     "text": [
      "final_chi2 min = 142.8066735991218\n",
      "[590579]\n"
     ]
    },
    {
     "data": {
      "image/png": "[encoded data removed]",
      "text/plain": [
       "<Figure size 432x288 with 1 Axes>"
      ]
     },
     "metadata": {
      "needs_background": "light"
     },
     "output_type": "display_data"
    }
   ],
   "source": [
    "for models in arr:\n",
    "    rob_fitsfile = '/home/buddy/Documents/MIPT/Hyperion/%s/flux.fits'%(models)\n",
    "    ap, wave, fnu, names = rob_fits(rob_fitsfile)\n",
    "   \n",
    "    image_data, radpix, wcs, scale, waveleng, aupixel  = user_fits(arr_userfile[0], ap, flag='1')\n",
    "    image_data = np.nan_to_num(image_data, nan=0.0)\n",
    "    phot_Jy_wise1 = photometry_wise1(image_data, radpix, wcs)\n",
    "    rob_wave, wave_index = find_nearest(wave, waveleng)\n",
    "    print('User waveleng =', waveleng, 'um')\n",
    "    print('Models waveleng =', rob_wave, 'um', '/index =',wave_index)\n",
    "    chi2_1, wave1_index = chi2_func(phot_Jy_wise1, fnu, wave_index, models, names, flag ='1')\n",
    "    \n",
    "    image_data, radpix, wcs, scale, waveleng, aupixel  = user_fits(arr_userfile[1], ap, flag='2')\n",
    "    image_data = np.nan_to_num(image_data, nan=0.0)\n",
    "    phot_Jy_wise2 = photometry_wise2(image_data, radpix, wcs)\n",
    "    rob_wave, wave_index = find_nearest(wave, waveleng)\n",
    "    print('User waveleng =', waveleng, 'um')\n",
    "    print('Models waveleng =', rob_wave, 'um', '/index =',wave_index)\n",
    "    chi2_2, wave2_index  = chi2_func(phot_Jy_wise2, fnu, wave_index, models, names, flag ='2')\n",
    "    \n",
    "    image_data, radpix, wcs, scale, waveleng, aupixel  = user_fits(arr_userfile[2], ap, flag='3')\n",
    "    image_data = np.nan_to_num(image_data, nan=0.0)\n",
    "    phot_Jy_wise3 = photometry_wise3(image_data, radpix, wcs)\n",
    "    rob_wave, wave_index = find_nearest(wave, waveleng)\n",
    "    print('User waveleng =', waveleng*1e6, 'um')\n",
    "    print('Models waveleng =', rob_wave, 'um', '/index =',wave_index)\n",
    "    chi2_3, wave3_index  = chi2_func(phot_Jy_wise3, fnu, wave_index, models, names, flag ='3')\n",
    "    \n",
    "    image_data, radpix, wcs, scale, waveleng, aupixel  = user_fits(arr_userfile[3], ap, flag='4')\n",
    "    image_data = np.nan_to_num(image_data, nan=0.0)\n",
    "    phot_Jy_wise4 = photometry_wise4(image_data, radpix, wcs)\n",
    "    rob_wave, wave_index = find_nearest(wave, waveleng)\n",
    "    print('User waveleng =', waveleng, 'um')\n",
    "    print('Models waveleng =', rob_wave, 'um', '/index =',wave_index)\n",
    "    chi2_4, wave4_index  = chi2_func(phot_Jy_wise4, fnu, wave_index, models, names, flag ='4')\n",
    "        \n",
    "    final_chi2 = chi2_1 + chi2_2 + chi2_3 + chi2_4\n",
    "    index = np.where(final_chi2 == np.nanmin(final_chi2))[0]\n",
    "    \n",
    "    print('final_chi2 min =',np.nanmin(final_chi2))\n",
    "    print(index)\n",
    "    plt.figure()\n",
    "    plt.plot(ap , phot_Jy_wise1, 'r.', label=\"WISE 1\") \n",
    "    plt.plot(ap , phot_Jy_wise2, 'g.', label=\"WISE 2\")\n",
    "    plt.plot(ap , phot_Jy_wise3, 'b.', label=\"WISE 3\")\n",
    "    plt.plot(ap , phot_Jy_wise4, 'y.', label=\"WISE 4\")\n",
    "    plt.plot(ap , fnu[int(index) ,:,wave1_index], 'r+', label=\"model 1\")\n",
    "    plt.plot(ap , fnu[int(index) ,:,wave2_index], 'g+', label=\"model 2\")\n",
    "    plt.plot(ap , fnu[int(index) ,:,wave3_index], 'b+', label=\"model 3\")\n",
    "    plt.plot(ap , fnu[int(index) ,:,wave4_index], 'y+', label=\"model 4\")\n",
    "    plt.legend(bbox_to_anchor=(1, 0.6))\n",
    "    plt.xlabel('AU')\n",
    "    plt.ylabel('Jy')\n",
    "    plt.title('%s  %s \\n $\\chi^2$ = %0.4f %s \\n WISE ALL FILTERS'%(obj_name, models, final_chi2[index], names[index]))\n",
    "    #plt.savefig(str('fit_'+ obj_name +'_'+'ACDE'+'_' + models +'.png') , dpi=300)\n",
    "    plt.show()"
   ]
  },
  {
   "cell_type": "code",
   "execution_count": null,
   "id": "55a9acba-8420-4763-878f-583a1f7c5fb5",
   "metadata": {},
   "outputs": [],
   "source": []
  }
 ],
 "metadata": {
  "kernelspec": {
   "display_name": "Python 3",
   "language": "python",
   "name": "python3"
  },
  "language_info": {
   "codemirror_mode": {
    "name": "ipython",
    "version": 3
   },
   "file_extension": ".py",
   "mimetype": "text/x-python",
   "name": "python",
   "nbconvert_exporter": "python",
   "pygments_lexer": "ipython3",
   "version": "3.9.4"
  }
 },
 "nbformat": 4,
 "nbformat_minor": 5
}
