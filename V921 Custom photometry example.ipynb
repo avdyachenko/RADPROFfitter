{
 "cells": [
  {
   "cell_type": "markdown",
   "id": "1a8d323b-0b8f-447b-b14f-976697b07487",
   "metadata": {},
   "source": [
    "In this example we will fit V921 Sco data from VLT/VISIR instrument\n",
    "Firstly, we define functions which we need for custom radial profile fitter (you will need to import them from custom_photometry.py file)\n",
    "Science object need to be in center of image and pixels values must be in Jy"
   ]
  },
  {
   "cell_type": "code",
   "execution_count": 1,
   "id": "e5547764-12d4-41bd-824e-f5c72314ee23",
   "metadata": {},
   "outputs": [],
   "source": [
    "import numpy as np\n",
    "import matplotlib.pyplot as plt\n",
    "\n",
    "from astropy.io import fits\n",
    "from astropy.visualization import ImageNormalize, ZScaleInterval, PercentileInterval\n",
    "from astropy.wcs import WCS\n",
    "from astropy.wcs.utils import proj_plane_pixel_scales\n",
    "from astropy import units as u\n",
    "from astropy.coordinates import SkyCoord\n",
    "\n",
    "from photutils import SkyCircularAperture\n",
    "from photutils import CircularAperture\n",
    "from photutils import CircularAnnulus\n",
    "from photutils import aperture_photometry\n",
    "from astropy.stats import sigma_clipped_stats\n",
    "\n",
    "def photometry_custom(image_data, radpix, wcs):\n",
    "    #aperture = CircularAperture((image_data.shape[0]/2,image_data.shape[0]/2), radpix[19])\n",
    "    position = [image_data.shape[0]/2,image_data.shape[0]/2]\n",
    "    apertures = [CircularAperture(position, r=r) for r in radpix]\n",
    "    annulus_aperture = CircularAnnulus(position, r_in=radpix[19], r_out=radpix[19]+radpix[16])\n",
    "    phot_table = aperture_photometry(image_data, apertures, wcs=wcs)\n",
    "    \n",
    "    annulus_masks = annulus_aperture.to_mask(method='center')\n",
    "    annulus_data = annulus_masks.multiply(image_data)\n",
    "    mask = annulus_masks.data\n",
    "    annulus_data_1d = annulus_data[mask > 0]\n",
    "    _, median_sigclip, _ = sigma_clipped_stats(annulus_data_1d)\n",
    "    bkg_mean = median_sigclip\n",
    "    \n",
    "    #sky_aperture = to_sky(apertures,wcs)\n",
    "    phot_array = np.zeros(20)\n",
    "    bkg_sum_array = np.zeros(20)\n",
    "    for i in range(0,20):\n",
    "        phot_array[i] = phot_table['aperture_sum_' + str(i)][0]\n",
    "        bkg_sum_array[i] = bkg_mean * apertures[i].area\n",
    "    \n",
    "    final_sum =  phot_array - bkg_sum_array  \n",
    "    \n",
    "    scale = np.mean(proj_plane_pixel_scales(wcs))    \n",
    "    phot_Jy_custom = final_sum\n",
    "    \n",
    "    print('Backgorud outer radius =',radpix[19]+radpix[16],'pixels')\n",
    "    print(phot_table)\n",
    "    return(phot_Jy_custom )"
   ]
  },
  {
   "cell_type": "markdown",
   "id": "b8459276-d6df-4df1-8090-037117c66b14",
   "metadata": {},
   "source": [
    "Next, we will define main tools fucntions which needed for operate fits file and chi2 fitting "
   ]
  },
  {
   "cell_type": "code",
   "execution_count": 2,
   "id": "d28f3c63-b91c-4b55-ae6e-7cd7c2546e23",
   "metadata": {},
   "outputs": [],
   "source": [
    "def find_nearest(array, value):\n",
    "    array = np.asarray(array)\n",
    "    idx = (np.abs(array - value)).argmin()\n",
    "    return array[idx], idx\n",
    "\n",
    "def rob_fits(user_fitsfile):\n",
    "    hdul = fits.open(user_fitsfile)\n",
    "    wavelength = hdul['SPECTRAL_INFO'].data\n",
    "    wave = wavelength['WAVELENGTH']\n",
    "    aperture = hdul['APERTURES'].data\n",
    "    ap = aperture['APERTURE']  \n",
    "    fnu = hdul['VALUES'].data\n",
    "    mod_names = hdul['MODEL_NAMES'].data\n",
    "    names = np.array(mod_names.astype('<U11'))\n",
    "    return(ap, wave, fnu*(1000/dist)**2/1000, names)\n",
    "\n",
    "def user_fits(rob_fitsfile,ap,flag):\n",
    "    hdul = fits.open(rob_fitsfile)\n",
    "    hdul.info()\n",
    "    image_data = hdul[0].data[::-1,: ] #инвертирует ось y\n",
    "    wcs = WCS(hdul[0].header)\n",
    "    waveleng = 18.7422 #hdul[0].header['WAVELENG']\n",
    "    scale = np.mean(proj_plane_pixel_scales(wcs))*3600\n",
    "    #scale = np.abs(CDELT1)*3600  #arcsec/pix\n",
    "    FOV = image_data.shape[0]*scale\n",
    "    hdul.close()\n",
    "    print(\"Scale =\",scale, \" arcsec/pix\")\n",
    "    print(\"FOV=\", FOV/60/60, \"deg\")\n",
    "    print('Image data shape:', image_data.shape)\n",
    "    # AU           | 1.49598e+11 m \n",
    "    # pc           | 3.08568e+16 m  \n",
    "    L = dist * FOV    #мой способ!!\n",
    "    aupixel = L/image_data.shape[0]   # AU in pixel\n",
    "    radius = ap/aupixel/2\n",
    "\n",
    "    radpix = ap/2/dist/scale\n",
    "    print('MAX RADIUS =', radpix[19], 'pix')\n",
    "    \n",
    "    #norm = ImageNormalize(image_data, interval=ZScaleInterval())         # Scale = ZScale\n",
    "    norm = ImageNormalize(image_data, interval=PercentileInterval(99.5))  # Scale = 99.5%\n",
    "\n",
    "    #ax = plt.subplot(projection=wcs)\n",
    "    #for i in range(0,len(radpix)):\n",
    "    #    ax.add_patch(plt.Circle((image_data.shape[0]/2,image_data.shape[0]/2), radpix[i] ,lw = 0.1, color='r', fill=False))\n",
    "    #    ax.add_patch(plt.Circle((image_data.shape[0]/2,image_data.shape[0]/2), radpix[19]+ radpix[16] ,lw = 0.5, color='green', fill=False))\n",
    "    #plt.imshow(image_data, cmap='gray',  norm=norm)\n",
    "    #plt.xlabel('Galactic Longitude')\n",
    "    #plt.ylabel('Galactic Latitude')\n",
    "    #plt.colorbar()\n",
    "    #plt.savefig(str(obj_name +'_' + models +'_' + flag +'.png') , dpi=300)\n",
    "    print('Min:', np.min(image_data))\n",
    "    print('Max:', np.max(image_data))\n",
    "    print('Mean:', np.mean(image_data))\n",
    "    print('Stdev:', np.std(image_data))\n",
    "    return(image_data, radpix, wcs, scale, waveleng,  aupixel )\n",
    "\n",
    "def chi2_func(phot_Jy, fnu, wave_index, models,names,flag):\n",
    "    chi2 = np.zeros(fnu.shape[0])\n",
    "    for i in range(0,fnu.shape[0]):\n",
    "        #chi2[i] = ((phot_Jy_MSX_A - fnu[i,:,wave_index])**2 *radpix**2).sum()\n",
    "        chi2[i] = ((phot_Jy - fnu[i,:,wave_index])**2).sum()\n",
    "        #idx = [chi2 == min(chi2)]\n",
    "    #index = np.where(idx)[1]\n",
    "    index = np.where(chi2 == np.nanmin(chi2))[0]\n",
    "    #print('chi2 min =',np.nanmin(chi2))\n",
    "    #print(index)\n",
    "    plt.figure()\n",
    "    plt.plot(ap , phot_Jy, 'r.', label=\"Observable data\") \n",
    "    plt.plot(ap , fnu[int(index) ,:,wave_index], 'b+', label=\"Model data\")\n",
    "    plt.legend(bbox_to_anchor=(1, 0.6))\n",
    "    plt.xlabel('AU')\n",
    "    plt.ylabel('Jy')\n",
    "    plt.title('%s  %s \\n $\\chi^2$ = %f %s \\n VISIR_%s'%(obj_name, models, chi2[index], names[index],flag))\n",
    "    plt.savefig(str('fit_'+ obj_name +'_' + models +'.png') , dpi=300)\n",
    "    plt.show()\n",
    "    return(chi2, wave_index)"
   ]
  },
  {
   "cell_type": "markdown",
   "id": "56732399-851c-4fd2-af15-680f5b721042",
   "metadata": {},
   "source": [
    "Below we will define object name, distance and which models we want to use. Alse need to define where is custom fits files."
   ]
  },
  {
   "cell_type": "code",
   "execution_count": 3,
   "id": "064ea7f5-bd0a-4474-8a39-7d9abd2dc351",
   "metadata": {},
   "outputs": [],
   "source": [
    "obj_name = 'V921 Sco'\n",
    "dist = 1650 #pc\n",
    "arr= ['spubhmi']\n",
    "#arr=['s-pbhmi','s-pbsmi','sp--h-i','s-p-hmi','sp--hmi','sp--s-i','s-p-smi','sp--smi',\n",
    "#    'spu-hmi','spu-smi','s---s-i','s---smi','s-ubhmi','s-ubsmi','s-u-hmi','s-u-smi']\n",
    "arr_userfile=['/home/buddy/Documents/MIPT/VISIR/V921Sco/V921Sco_median_Jy.fits']"
   ]
  },
  {
   "cell_type": "markdown",
   "id": "3c04d1b0-07f5-4595-8484-32c29a606b3f",
   "metadata": {},
   "source": [
    "Here presented code to use tools to fit custom data."
   ]
  },
  {
   "cell_type": "code",
   "execution_count": 4,
   "id": "09a4cc48-963a-4f3b-8acd-679c52e7f7ff",
   "metadata": {},
   "outputs": [
    {
     "name": "stdout",
     "output_type": "stream",
     "text": [
      "Filename: /home/buddy/Documents/MIPT/VISIR/V921Sco/V921Sco_median_Jy.fits\n",
      "No.    Name      Ver    Type      Cards   Dimensions   Format\n",
      "  0  PRIMARY       1 PrimaryHDU     826   (256, 256)   float64   \n",
      "Scale = 0.127000000008  arcsec/pix\n",
      "FOV= 0.00903111111168 deg\n",
      "Image data shape: (256, 256)\n",
      "MAX RADIUS = 2386.065378041059 pix\n",
      "Min: -1.9624105322266452\n",
      "Max: 148.1897689371729\n",
      "Mean: 0.31293542714377065\n",
      "Stdev: 1.8900634920506274\n"
     ]
    },
    {
     "name": "stderr",
     "output_type": "stream",
     "text": [
      "WARNING: FITSFixedWarning: RADECSYS= 'FK5 ' / Coordinate reference frame \n",
      "the RADECSYS keyword is deprecated, use RADESYSa. [astropy.wcs.wcs]\n"
     ]
    },
    {
     "name": "stdout",
     "output_type": "stream",
     "text": [
      "Backgorud outer radius = 2943.383791055373 pixels\n",
      " id xcenter ycenter ...  aperture_sum_17   aperture_sum_18    aperture_sum_19  \n",
      "      pix     pix   ...                                                        \n",
      "--- ------- ------- ... ----------------- ------------------ ------------------\n",
      "  1   128.0   128.0 ... 205.0853615329416 205.08536153294153 205.08536153294165\n",
      "User waveleng = 18.7422 um\n",
      "Models waveleng = 18.308818377145872 um /index = 85\n"
     ]
    },
    {
     "data": {
      "image/png": "[encoded data removed]",
      "text/plain": [
       "<Figure size 432x288 with 1 Axes>"
      ]
     },
     "metadata": {
      "needs_background": "light"
     },
     "output_type": "display_data"
    },
    {
     "name": "stdout",
     "output_type": "stream",
     "text": [
      "final_chi2 min = 7557.68629129948\n",
      "[322780]\n"
     ]
    },
    {
     "data": {
      "image/png": "[encoded data removed]",
      "text/plain": [
       "<Figure size 432x288 with 1 Axes>"
      ]
     },
     "metadata": {
      "needs_background": "light"
     },
     "output_type": "display_data"
    }
   ],
   "source": [
    "for models in arr:\n",
    "    rob_fitsfile = '/home/buddy/Documents/MIPT/Hyperion/%s/flux.fits'%(models)\n",
    "    ap, wave, fnu, names = rob_fits(rob_fitsfile)\n",
    "   \n",
    "    image_data, radpix, wcs, scale, waveleng, aupixel  = user_fits(arr_userfile[0], ap, flag='Q2')\n",
    "    image_data = np.nan_to_num(image_data, nan=0.0)\n",
    "    phot_Jy = photometry_custom(image_data, radpix, wcs)\n",
    "    rob_wave, wave_index = find_nearest(wave, waveleng)\n",
    "    print('User waveleng =', waveleng, 'um')\n",
    "    print('Models waveleng =', rob_wave, 'um', '/index =',wave_index)\n",
    "    chi2, wave1_index = chi2_func(phot_Jy, fnu, wave_index, models, names, flag ='Q2')\n",
    "    \n",
    "    \n",
    "    final_chi2 = chi2\n",
    "    index = np.where(final_chi2 == np.nanmin(final_chi2))[0]\n",
    "    \n",
    "    print('final_chi2 min =',np.nanmin(final_chi2))\n",
    "    print(index)\n",
    "    plt.figure()\n",
    "    plt.plot(ap , phot_Jy, 'r.') \n",
    "    plt.plot(ap , fnu[int(index) ,:,wave1_index], 'r+')\n",
    "    plt.xlabel('AU')\n",
    "    plt.ylabel('Jy')\n",
    "    plt.title('%s  %s \\n $\\chi^2$ = %0.4f %s \\n VISIR'%(obj_name, models, final_chi2[index], names[index]))\n",
    "    plt.savefig(str('fit_'+ obj_name +'_'+'ACDE'+'_' + models +'.png') , dpi=300)\n",
    "    plt.show()"
   ]
  },
  {
   "cell_type": "code",
   "execution_count": null,
   "id": "67a84f38-2449-4607-b92a-039c2ab657e3",
   "metadata": {},
   "outputs": [],
   "source": []
  }
 ],
 "metadata": {
  "kernelspec": {
   "display_name": "Python 3",
   "language": "python",
   "name": "python3"
  },
  "language_info": {
   "codemirror_mode": {
    "name": "ipython",
    "version": 3
   },
   "file_extension": ".py",
   "mimetype": "text/x-python",
   "name": "python",
   "nbconvert_exporter": "python",
   "pygments_lexer": "ipython3",
   "version": "3.9.4"
  }
 },
 "nbformat": 4,
 "nbformat_minor": 5
}
